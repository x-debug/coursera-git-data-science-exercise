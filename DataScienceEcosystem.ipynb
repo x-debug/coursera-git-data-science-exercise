{
 "cells": [
  {
   "cell_type": "markdown",
   "id": "ab5b7695-d1ad-4ed5-a938-99f0c909723a",
   "metadata": {},
   "source": [
    "# Data Science Tools and Ecosystem"
   ]
  },
  {
   "cell_type": "markdown",
   "id": "8c06a7ab-dd5e-439d-8b8b-4c8794acbebc",
   "metadata": {},
   "source": [
    "In this notebook, Data Science Tools and Ecosystem are summarized."
   ]
  },
  {
   "cell_type": "markdown",
   "id": "7deb373c-854e-46c9-94f5-d7bc9466e3a2",
   "metadata": {},
   "source": [
    "Some of the popular languages that Data Scientists use are:\n",
    "1. R\n",
    "2. Python\n",
    "3. SQL"
   ]
  },
  {
   "cell_type": "markdown",
   "id": "0f5eeb45-1bda-42a6-8c89-05a865d03009",
   "metadata": {},
   "source": [
    "Some of the commonly used libraries used by Data Scientists include:\n",
    "1. Tensorflow\n",
    "2. Pytorch\n",
    "3. Pandas"
   ]
  },
  {
   "cell_type": "markdown",
   "id": "33f5a2a9-9ff3-4320-8c4f-cf1c97fb1385",
   "metadata": {},
   "source": [
    "## Data Science Tools\n",
    "\n",
    "| Tools    |\n",
    "| -------- |\n",
    "| Conda    |\n",
    "| Python   |\n",
    "| R        |\n"
   ]
  },
  {
   "cell_type": "markdown",
   "id": "fb59df9b-b8e2-4a58-ad24-0b8136fc1f84",
   "metadata": {},
   "source": [
    "### Below are a few examples of evaluating arithmetic expressions in Python\n"
   ]
  },
  {
   "cell_type": "code",
   "execution_count": 1,
   "id": "edbac155-db5e-489e-b143-3023a478d0ee",
   "metadata": {
    "tags": []
   },
   "outputs": [
    {
     "data": {
      "text/plain": [
       "17"
      ]
     },
     "execution_count": 1,
     "metadata": {},
     "output_type": "execute_result"
    }
   ],
   "source": [
    "# This a simple arithmetic expression to mutiply then add integers.\n",
    "(3*4)+5"
   ]
  },
  {
   "cell_type": "code",
   "execution_count": 2,
   "id": "18cce5f1-b541-431a-8dd0-bc998dda57ff",
   "metadata": {
    "tags": []
   },
   "outputs": [
    {
     "data": {
      "text/plain": [
       "3.3333333333333335"
      ]
     },
     "execution_count": 2,
     "metadata": {},
     "output_type": "execute_result"
    }
   ],
   "source": [
    "# This will convert 200 minutes to hours by diving by 60.\n",
    "minutes = 200\n",
    "hours = minutes / 60\n",
    "hours"
   ]
  },
  {
   "cell_type": "markdown",
   "id": "ef96364c-9338-4417-ac25-cb6d52ae0619",
   "metadata": {
    "tags": []
   },
   "source": [
    "**Objectives:**\n",
    "\n"
   ]
  },
  {
   "cell_type": "markdown",
   "id": "cf93e16a-2a81-4e4a-bb43-4063d1bef574",
   "metadata": {
    "tags": []
   },
   "source": [
    "- list data science languages\n",
    "- list data science libraries\n",
    "- list data science tools\n"
   ]
  },
  {
   "cell_type": "markdown",
   "id": "f2d62eaa-b57a-4429-9ca5-d8f007678df8",
   "metadata": {},
   "source": [
    "## Author\n",
    "chen xiaofeng"
   ]
  },
  {
   "cell_type": "code",
   "execution_count": null,
   "id": "d97af0cf-8b87-48dc-b312-2b1fc43bb37f",
   "metadata": {},
   "outputs": [],
   "source": []
  }
 ],
 "metadata": {
  "kernelspec": {
   "display_name": "Python",
   "language": "python",
   "name": "conda-env-python-py"
  },
  "language_info": {
   "codemirror_mode": {
    "name": "ipython",
    "version": 3
   },
   "file_extension": ".py",
   "mimetype": "text/x-python",
   "name": "python",
   "nbconvert_exporter": "python",
   "pygments_lexer": "ipython3",
   "version": "3.7.12"
  }
 },
 "nbformat": 4,
 "nbformat_minor": 5
}
